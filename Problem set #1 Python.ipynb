{
 "cells": [
  {
   "cell_type": "code",
   "execution_count": 3,
   "id": "c3258ec5",
   "metadata": {},
   "outputs": [
    {
     "name": "stdout",
     "output_type": "stream",
     "text": [
      "appyhay\n",
      "enterway\n"
     ]
    }
   ],
   "source": [
    "#Question 6 Python\n",
    "\n",
    "# Write a function pig() that takes a word (i.e., a string) as input and returns its pig-Latin form. \n",
    "#  If the word starts with a consonant, move that letter to the end and append 'ay'.For example, 'happy' becomes 'appyhay'\n",
    "# If the word starts with a vowel, simply append 'way' to the end of the word. For example, 'enter' becomes 'enterway'\n",
    "\n",
    "def pig(word):\n",
    "    vowels = ['a', 'e', 'i', 'o', 'u']\n",
    "    word = word.lower()\n",
    "    \n",
    "    if word[0] in vowels:           # condition word start with vowel\n",
    "        return word + 'way'\n",
    "    else:\n",
    "        return word[1:] + word[0] + 'ay'\n",
    "\n",
    "print(pig('HAPPY'))  # happy in lower case\n",
    "print(pig('Enter'))  # enter in lower case\n"
   ]
  },
  {
   "cell_type": "code",
   "execution_count": 10,
   "id": "b8250cae",
   "metadata": {},
   "outputs": [
    {
     "name": "stdout",
     "output_type": "stream",
     "text": [
      "There are 15 patients of blood type A\n",
      "There are 1 patients of blood type B\n",
      "There are 13 patients of blood type AB\n",
      "There are 15 patients of blood type O\n",
      "There are 0 patients of blood type OO\n"
     ]
    }
   ],
   "source": [
    "#Question 7 Python\n",
    "\n",
    "# Write a function bldcount() that reads the text file with name 'bloodtype1' and reports how many patients there are in each bloodtype.\n",
    "\n",
    "def bldcount(file):\n",
    "    print(\"There are\",file.count(\"A\"), \"patients of blood type A\")\n",
    "    print(\"There are\",file.count(\"B\") ,\"patients of blood type B\")\n",
    "    print(\"There are\",file.count(\"AB\"),\"patients of blood type AB\")\n",
    "    print(\"There are\",file.count(\"O\"),\"patients of blood type O\")\n",
    "    print(\"There are\",file.count(\"OO\"),\"patients of blood type OO\")\n",
    "\n",
    "list=open(\"bloodtype1.txt\")\n",
    "y=list.read()\n",
    "file=y.split()\n",
    "\n",
    "bldcount(file)\n"
   ]
  },
  {
   "cell_type": "code",
   "execution_count": 21,
   "id": "90adc108",
   "metadata": {},
   "outputs": [
    {
     "name": "stdout",
     "output_type": "stream",
     "text": [
      "Enter currency code:EUR\n",
      "Enter amount:100\n",
      "122.96544\n"
     ]
    }
   ],
   "source": [
    "#Question 8 Python\n",
    "\n",
    "def curconv(currency,amount):\n",
    "    list=open(\"currencies.txt\")\n",
    "    y=list.read()\n",
    "    dict = {}\n",
    "    file=y.split()\n",
    "    \n",
    "    for i in file:\n",
    "        if (i.isalpha() and len(i)==3):\n",
    "                key=i\n",
    "        elif(i.isalpha() and len(i)>3):\n",
    "                x=0\n",
    "        else:\n",
    "                value=i\n",
    "                dict[key]=value\n",
    "    amt=float(dict[currency])*amount\n",
    "    return amt\n",
    "currency =input('Enter currency code:')\n",
    "amount=float(input('Enter amount:'))\n",
    "USD=curconv(currency,amount)\n",
    "print(USD)\n"
   ]
  },
  {
   "cell_type": "code",
   "execution_count": 24,
   "id": "10a4030e",
   "metadata": {},
   "outputs": [
    {
     "ename": "TypeError",
     "evalue": "unsupported operand type(s) for +: 'int' and 'str'",
     "output_type": "error",
     "traceback": [
      "\u001b[1;31m---------------------------------------------------------------------------\u001b[0m",
      "\u001b[1;31mTypeError\u001b[0m                                 Traceback (most recent call last)",
      "Cell \u001b[1;32mIn[24], line 3\u001b[0m\n\u001b[0;32m      1\u001b[0m \u001b[38;5;66;03m# Question 9 (a) - Trying to add incompatible variables, as in adding 6 + ‘a’\u001b[39;00m\n\u001b[1;32m----> 3\u001b[0m \u001b[38;5;241m6\u001b[39m\u001b[38;5;241m+\u001b[39m\u001b[38;5;124m'\u001b[39m\u001b[38;5;124ma\u001b[39m\u001b[38;5;124m'\u001b[39m\n",
      "\u001b[1;31mTypeError\u001b[0m: unsupported operand type(s) for +: 'int' and 'str'"
     ]
    }
   ],
   "source": [
    "# Question 9 (a) - Trying to add incompatible variables, as in adding 6 + ‘a’\n",
    "\n",
    "6+'a'\n",
    "\n",
    "# Ans: An integer (6) plus a string ('a') cannot be added, hence this will result in a 'TypeError'"
   ]
  },
  {
   "cell_type": "code",
   "execution_count": 25,
   "id": "2ef5c109",
   "metadata": {},
   "outputs": [
    {
     "ename": "IndexError",
     "evalue": "list index out of range",
     "output_type": "error",
     "traceback": [
      "\u001b[1;31m---------------------------------------------------------------------------\u001b[0m",
      "\u001b[1;31mIndexError\u001b[0m                                Traceback (most recent call last)",
      "Cell \u001b[1;32mIn[25], line 4\u001b[0m\n\u001b[0;32m      1\u001b[0m \u001b[38;5;66;03m# Question 9 (b) - Referring to the 12th item of a list that has only 10 items\u001b[39;00m\n\u001b[0;32m      3\u001b[0m \u001b[38;5;28mlist\u001b[39m\u001b[38;5;241m=\u001b[39m[\u001b[38;5;241m1\u001b[39m,\u001b[38;5;241m2\u001b[39m,\u001b[38;5;241m3\u001b[39m,\u001b[38;5;241m4\u001b[39m,\u001b[38;5;241m5\u001b[39m,\u001b[38;5;241m6\u001b[39m,\u001b[38;5;241m7\u001b[39m,\u001b[38;5;241m8\u001b[39m,\u001b[38;5;241m9\u001b[39m,\u001b[38;5;241m10\u001b[39m]\n\u001b[1;32m----> 4\u001b[0m \u001b[38;5;28mprint\u001b[39m(\u001b[38;5;28mlist\u001b[39m[\u001b[38;5;241m12\u001b[39m])\n",
      "\u001b[1;31mIndexError\u001b[0m: list index out of range"
     ]
    }
   ],
   "source": [
    "# Question 9 (b) - Referring to the 12th item of a list that has only 10 items\n",
    "\n",
    "list=[1,2,3,4,5,6,7,8,9,10]\n",
    "print(list[12])\n",
    "\n",
    "# Ans: It will result in 'IndexError' as there are only 10 items in the list. Only 0 to 9 are valid as index."
   ]
  },
  {
   "cell_type": "code",
   "execution_count": 26,
   "id": "eaa235bd",
   "metadata": {},
   "outputs": [
    {
     "ename": "ValueError",
     "evalue": "math domain error",
     "output_type": "error",
     "traceback": [
      "\u001b[1;31m---------------------------------------------------------------------------\u001b[0m",
      "\u001b[1;31mValueError\u001b[0m                                Traceback (most recent call last)",
      "Cell \u001b[1;32mIn[26], line 4\u001b[0m\n\u001b[0;32m      1\u001b[0m \u001b[38;5;66;03m# Quation 9 (c) - Using a value that is out of range for a function’s input, such as calling math.sqrt(-1.0)\u001b[39;00m\n\u001b[0;32m      3\u001b[0m \u001b[38;5;28;01mimport\u001b[39;00m \u001b[38;5;21;01mmath\u001b[39;00m\n\u001b[1;32m----> 4\u001b[0m math\u001b[38;5;241m.\u001b[39msqrt(\u001b[38;5;241m-\u001b[39m\u001b[38;5;241m1.0\u001b[39m)\n",
      "\u001b[1;31mValueError\u001b[0m: math domain error"
     ]
    }
   ],
   "source": [
    "# Quation 9 (c) - Using a value that is out of range for a function’s input, such as calling math.sqrt(-1.0)\n",
    "\n",
    "import math\n",
    "math.sqrt(-1.0)\n",
    "\n",
    "# Ans: It will result in 'ValueError' as math.sqrt() function requires a non-negative number to calculate the square root. Here -1.0 is negative number which is out of range for a function’s input."
   ]
  },
  {
   "cell_type": "code",
   "execution_count": 28,
   "id": "dc8051b9",
   "metadata": {},
   "outputs": [
    {
     "ename": "NameError",
     "evalue": "name 'x' is not defined",
     "output_type": "error",
     "traceback": [
      "\u001b[1;31m---------------------------------------------------------------------------\u001b[0m",
      "\u001b[1;31mNameError\u001b[0m                                 Traceback (most recent call last)",
      "Cell \u001b[1;32mIn[28], line 3\u001b[0m\n\u001b[0;32m      1\u001b[0m \u001b[38;5;66;03m# Quation 9 (c) - Using an undeclared variable, such as print(x) when x has not been defined\u001b[39;00m\n\u001b[1;32m----> 3\u001b[0m \u001b[38;5;28mprint\u001b[39m(x)\n",
      "\u001b[1;31mNameError\u001b[0m: name 'x' is not defined"
     ]
    }
   ],
   "source": [
    "# Quation 9 (d) - Using an undeclared variable, such as print(x) when x has not been defined\n",
    "\n",
    "print(x)\n",
    "\n",
    "# Ans: It will result in 'NameError' as varibale x is not defined."
   ]
  },
  {
   "cell_type": "code",
   "execution_count": 31,
   "id": "52e171ff",
   "metadata": {},
   "outputs": [
    {
     "ename": "FileNotFoundError",
     "evalue": "[Errno 2] No such file or directory: 'xyz.txt'",
     "output_type": "error",
     "traceback": [
      "\u001b[1;31m---------------------------------------------------------------------------\u001b[0m",
      "\u001b[1;31mFileNotFoundError\u001b[0m                         Traceback (most recent call last)",
      "Cell \u001b[1;32mIn[31], line 3\u001b[0m\n\u001b[0;32m      1\u001b[0m \u001b[38;5;66;03m# Quation 9 (e) - Trying to open a file that does not exist, such as mistyping the file name or looking in the wrong directory.\u001b[39;00m\n\u001b[1;32m----> 3\u001b[0m \u001b[38;5;28mlist\u001b[39m\u001b[38;5;241m=\u001b[39m\u001b[38;5;28mopen\u001b[39m(\u001b[38;5;124m\"\u001b[39m\u001b[38;5;124mxyz.txt\u001b[39m\u001b[38;5;124m\"\u001b[39m)\n",
      "File \u001b[1;32m~\\anaconda3\\Lib\\site-packages\\IPython\\core\\interactiveshell.py:286\u001b[0m, in \u001b[0;36m_modified_open\u001b[1;34m(file, *args, **kwargs)\u001b[0m\n\u001b[0;32m    279\u001b[0m \u001b[38;5;28;01mif\u001b[39;00m file \u001b[38;5;129;01min\u001b[39;00m {\u001b[38;5;241m0\u001b[39m, \u001b[38;5;241m1\u001b[39m, \u001b[38;5;241m2\u001b[39m}:\n\u001b[0;32m    280\u001b[0m     \u001b[38;5;28;01mraise\u001b[39;00m \u001b[38;5;167;01mValueError\u001b[39;00m(\n\u001b[0;32m    281\u001b[0m         \u001b[38;5;124mf\u001b[39m\u001b[38;5;124m\"\u001b[39m\u001b[38;5;124mIPython won\u001b[39m\u001b[38;5;124m'\u001b[39m\u001b[38;5;124mt let you open fd=\u001b[39m\u001b[38;5;132;01m{\u001b[39;00mfile\u001b[38;5;132;01m}\u001b[39;00m\u001b[38;5;124m by default \u001b[39m\u001b[38;5;124m\"\u001b[39m\n\u001b[0;32m    282\u001b[0m         \u001b[38;5;124m\"\u001b[39m\u001b[38;5;124mas it is likely to crash IPython. If you know what you are doing, \u001b[39m\u001b[38;5;124m\"\u001b[39m\n\u001b[0;32m    283\u001b[0m         \u001b[38;5;124m\"\u001b[39m\u001b[38;5;124myou can use builtins\u001b[39m\u001b[38;5;124m'\u001b[39m\u001b[38;5;124m open.\u001b[39m\u001b[38;5;124m\"\u001b[39m\n\u001b[0;32m    284\u001b[0m     )\n\u001b[1;32m--> 286\u001b[0m \u001b[38;5;28;01mreturn\u001b[39;00m io_open(file, \u001b[38;5;241m*\u001b[39margs, \u001b[38;5;241m*\u001b[39m\u001b[38;5;241m*\u001b[39mkwargs)\n",
      "\u001b[1;31mFileNotFoundError\u001b[0m: [Errno 2] No such file or directory: 'xyz.txt'"
     ]
    }
   ],
   "source": [
    "# Quation 9 (e) - Trying to open a file that does not exist, such as mistyping the file name or looking in the wrong directory.\n",
    "\n",
    "list=open(\"xyz.txt\")\n",
    "\n",
    "# Ans: It will result in 'FileNotFoundError' as file 'xyz.txt' does not exist in the specified location."
   ]
  },
  {
   "cell_type": "code",
   "execution_count": 33,
   "id": "fe1b2fec",
   "metadata": {},
   "outputs": [
    {
     "name": "stdout",
     "output_type": "stream",
     "text": [
      "The quick red fox got bored and went home.\n",
      "[1, 1, 1, 3, 5, 1, 1, 2, 1, 0, 1, 0, 1, 2, 4, 0, 1, 2, 0, 3, 1, 0, 1, 1, 0, 0]\n",
      "Enter text: Apple\n",
      "[1, 0, 0, 0, 1, 0, 0, 0, 0, 0, 0, 1, 0, 0, 0, 2, 0, 0, 0, 0, 0, 0, 0, 0, 0, 0]\n"
     ]
    }
   ],
   "source": [
    "# Quation 10 Python\n",
    "\n",
    "# Write a function called frequencies() that takes a string as its only parameter, and returns a list of integers, showing the number of times each character appears in the text.\n",
    "\n",
    "def frequencies(text):\n",
    "    letters = 'abcdefghijklmnopqrstuvwxyz'\n",
    "    frequency_list = []\n",
    "    for char in letters:\n",
    "        frequency = text.lower().count(char)\n",
    "        frequency_list.append(frequency)\n",
    "    return frequency_list\n",
    "print('The quick red fox got bored and went home.')\n",
    "print(frequencies('The quick red fox got bored and went home.'))\n",
    "input_string = input(\"Enter text: \")\n",
    "print(frequencies(input_string))\n"
   ]
  },
  {
   "cell_type": "code",
   "execution_count": null,
   "id": "280a70b8",
   "metadata": {},
   "outputs": [],
   "source": []
  }
 ],
 "metadata": {
  "kernelspec": {
   "display_name": "Python 3 (ipykernel)",
   "language": "python",
   "name": "python3"
  },
  "language_info": {
   "codemirror_mode": {
    "name": "ipython",
    "version": 3
   },
   "file_extension": ".py",
   "mimetype": "text/x-python",
   "name": "python",
   "nbconvert_exporter": "python",
   "pygments_lexer": "ipython3",
   "version": "3.11.5"
  }
 },
 "nbformat": 4,
 "nbformat_minor": 5
}
