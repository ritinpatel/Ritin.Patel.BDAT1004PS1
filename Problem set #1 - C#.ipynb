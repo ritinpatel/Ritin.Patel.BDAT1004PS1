{
 "cells": [
  {
   "cell_type": "code",
   "execution_count": null,
   "id": "4a6e3513",
   "metadata": {},
   "outputs": [],
   "source": [
    "// Question 1 : What data type is each of the following?\n",
    "\n",
    "5 ==> Integer (int)\n",
    "5.0 ==> Floating point number (double)\n",
    "5 > 1 ==> Boolean (bool)\n",
    "'5' ==> Character (char)\n",
    "5 * 2 ==> Integer (int)\n",
    "'5' * 2 ==> String (string)\n",
    "'5' + '2' ==> String (string)\n",
    "5 / 2 ==> Floating point number (double)\n",
    "5 % 2 ==> Integer (int)\n",
    "{5, 2, 1} ==> Array of integers (int[]) \n",
    "5 == 3 ==> Boolean (bool)\n",
    "Pi (the number) ==> Floating-point number (double)"
   ]
  },
  {
   "cell_type": "code",
   "execution_count": 3,
   "id": "67078e25",
   "metadata": {},
   "outputs": [
    {
     "name": "stdout",
     "output_type": "stream",
     "text": [
      "Number of letters: 34\r\n"
     ]
    }
   ],
   "source": [
    "//Question 2 (a)\n",
    "\n",
    "// find total number of letters in 'Supercalifragilisticexpialidocious'\n",
    "\n",
    "string word = \"Supercalifragilisticexpialidocious\";\n",
    "int letterCount = word.Length;\n",
    "Console.WriteLine(\"Number of letters: \" + letterCount);"
   ]
  },
  {
   "cell_type": "code",
   "execution_count": 5,
   "id": "e8879388",
   "metadata": {},
   "outputs": [
    {
     "name": "stdout",
     "output_type": "stream",
     "text": [
      "Word contains 'ice': True\r\n"
     ]
    }
   ],
   "source": [
    "//Question 2 (b)\n",
    "\n",
    "// 'Supercalifragilisticexpialidocious' contain 'ice' as a substring?\n",
    "\n",
    "string word = \"Supercalifragilisticexpialidocious\";\n",
    "bool Substring = word.Contains(\"ice\");\n",
    "Console.WriteLine(\"Word contains 'ice': \" + Substring);"
   ]
  },
  {
   "cell_type": "code",
   "execution_count": 10,
   "id": "5b2c1b51",
   "metadata": {},
   "outputs": [
    {
     "name": "stdout",
     "output_type": "stream",
     "text": [
      "Longest Word: Bababadalgharaghtakamminarronnkonn\r\n"
     ]
    }
   ],
   "source": [
    "//Question 2 (c)\n",
    "\n",
    "// Longest word from : Supercalifragilisticexpialidocious, Honorificabilitudinitatibus or Bababadalgharaghtakamminarronnkonn\n",
    "\n",
    "string word1 = \"Supercalifragilisticexpialidocious\";\n",
    "string word2 = \"Honorificabilitudinitatibus\" ;\n",
    "string word3 = \"Bababadalgharaghtakamminarronnkonn\";\n",
    "\n",
    "if (word1.Length > word2.Length && word1.Length > word3.Length)\n",
    "{\n",
    "    Console.WriteLine(\"Longest Word: \" + word1);\n",
    "}\n",
    "else if (word2.Length > word3.Length && word2.Length > word1.Length)\n",
    "{\n",
    "    Console.WriteLine(\"Longest Word: \" + word2);\n",
    "}\n",
    "else\n",
    "{\n",
    "    Console.WriteLine(\"Longest Word: \" + word3);\n",
    "}"
   ]
  },
  {
   "cell_type": "code",
   "execution_count": 12,
   "id": "3bb266e4",
   "metadata": {},
   "outputs": [
    {
     "name": "stdout",
     "output_type": "stream",
     "text": [
      "First composer in the dictionary: Bartok\n",
      "Last composer in the dictionary: Buxtehude\n"
     ]
    }
   ],
   "source": [
    "//Question 2 (d)\n",
    "\n",
    "// first and last composer in the dictionary: 'Berlioz', 'Borodin', 'Brian', 'Bartok', 'Bellini', 'Buxtehude', 'Bernstein'\n",
    "\n",
    "string[] composers = { \"Berlioz\", \"Borodin\", \"Brian\", \"Bartok\", \"Bellini\", \"Buxtehude\", \"Bernstein\" };\n",
    "Array.Sort(composers); // sorting the array alphabatically\n",
    "\n",
    "string firstComposer = composers[0];\n",
    "string lastComposer = composers[composers.Length - 1];\n",
    "\n",
    "Console.WriteLine(\"First composer in the dictionary: \" + firstComposer);\n",
    "Console.WriteLine(\"Last composer in the dictionary: \" + lastComposer);"
   ]
  },
  {
   "cell_type": "code",
   "execution_count": null,
   "id": "02395df6",
   "metadata": {},
   "outputs": [],
   "source": [
    "// Question 3\n",
    "\n",
    "// Implement function that takes as input the lengths of the 3 sides of a triangle and returns the area of the triangle.\n",
    "\n",
    "// By Heron's formula, the area of a triangle with side lengths a, b, and c is s(s- a)(s- b)(s- c), where s = (a+b+c)/2.\n",
    "\n",
    "using System;\n",
    "\n",
    "public class Program\n",
    "{\n",
    "    public static double TriangleArea(double a, double b, double c)\n",
    "    {\n",
    "        double s = (a + b + c) / 2;\n",
    "        double area = Math.Sqrt(s * (s - a) * (s - b) * (s - c));\n",
    "        return area;\n",
    "    }\n",
    "\n",
    "    public static void Main(string[] args)\n",
    "    {\n",
    "        double area = TriangleArea(2, 2, 2);\n",
    "        Console.WriteLine(\"Area of the triangle: \" + area);      \n",
    "    }\n",
    "}\n",
    "// output:\n",
    "// Area of the triangle: 1.73205080756888"
   ]
  },
  {
   "cell_type": "code",
   "execution_count": 32,
   "id": "c9584efd",
   "metadata": {},
   "outputs": [],
   "source": [
    "// Question 4 \n",
    "\n",
    "// Write a program in C# Sharp to separate odd and even integers in separate arrays.\n",
    "\n",
    "using System;\n",
    "\n",
    "class Program\n",
    "{\n",
    "    static void Main()\n",
    "    {\n",
    "        Console.Write(\"Input the number of elements to be stored in the array: \");\n",
    "        int n = int.Parse(Console.ReadLine());\n",
    "\n",
    "        int[] arr = new int[n];\n",
    "\n",
    "        Console.WriteLine($\"Input {n} elements in the array:\");\n",
    "\n",
    "        for (int i = 0; i < n; i++)\n",
    "        {\n",
    "            Console.Write($\"element - {i} : \");\n",
    "            arr[i] = int.Parse(Console.ReadLine());\n",
    "        }\n",
    "\n",
    "        int[] evenArray = new int[n];\n",
    "        int[] oddArray = new int[n];\n",
    "        int evenCount = 0;\n",
    "        int oddCount = 0;\n",
    "\n",
    "        for (int i = 0; i < n; i++)\n",
    "        {\n",
    "            if (arr[i] % 2 == 0)\n",
    "            {\n",
    "                evenArray[evenCount] = arr[i];\n",
    "                evenCount++;\n",
    "            }\n",
    "            else\n",
    "            {\n",
    "                oddArray[oddCount] = arr[i];\n",
    "                oddCount++;\n",
    "            }\n",
    "        }\n",
    "\n",
    "        Console.WriteLine(\"The Even elements are:\");\n",
    "        for (int i = 0; i < evenCount; i++)\n",
    "        {\n",
    "            Console.Write($\"{evenArray[i]} \");\n",
    "        }\n",
    "\n",
    "        Console.WriteLine(\"\\nThe Odd elements are:\");\n",
    "        for (int i = 0; i < oddCount; i++)\n",
    "        {\n",
    "            Console.Write($\"{oddArray[i]} \");\n",
    "        }\n",
    "    }\n",
    "}\n",
    "// output\n",
    "// Input the number of elements to be stored in the array: 5\n",
    "// Input 5 elements in the array:\n",
    "// element - 0 : 25\n",
    "// element - 1 : 47\n",
    "// element - 2 : 42\n",
    "// element - 3 : 56\n",
    "// element - 4 : 32\n",
    "// The Even elements are:\n",
    "// 42 56 32 \n",
    "// The Odd elements are:\n",
    "// 25 47 "
   ]
  },
  {
   "cell_type": "code",
   "execution_count": 33,
   "id": "7a5a0b47",
   "metadata": {},
   "outputs": [],
   "source": [
    "// Question 5\n",
    "\n",
    "//  (a) Write a function inside(x,y,x1,y1,x2,y2) that returns True or False depending on whether the point (x,y) lies in the rectangle with lower leftcorner (x1,y1) and upper right corner (x2,y2).\n",
    "// (b) Use function inside() from part a. to write an expression that tests whether the point (1,1) lies in both of the following rectangles: one with lower left corner (0.3, 0.5) and upper right corner (1.1, 0.7) and the other with lower left corner (0.5, 0.2) and upper right corner (1.1, 2). \n",
    "\n",
    "using System;\n",
    "\n",
    "public class Program\n",
    "{\n",
    "    public static bool inside(double x, double y, double x1, double y1, double x2, double y2)\n",
    "    {\n",
    "        if (x >= x1 && x <= x2 && y >= y1 && y <= y2)\n",
    "        {\n",
    "            return true;\n",
    "        }\n",
    "        else\n",
    "        {\n",
    "            return false;\n",
    "        }\n",
    "    }\n",
    "\n",
    "    public static void Main(string[] args)\n",
    "    {\n",
    "        bool insideRectangle1 = inside(1, 1, 0, 0, 2, 3);\n",
    "        bool insideRectangle2 = inside(-1, -1, 0, 0, 2, 3);\n",
    "\n",
    "        Console.WriteLine(insideRectangle1); // True\n",
    "        Console.WriteLine(insideRectangle2); // False\n",
    "\n",
    "        bool insideBothRectangles = inside(1, 1, 0.3, 0.5, 1.1, 0.7) && inside(1, 1, 0.5, 0.2, 1.1, 2);\n",
    "\n",
    "        Console.WriteLine(insideBothRectangles); // False\n",
    "    }\n",
    "}\n",
    "// output\n",
    "// True False False"
   ]
  },
  {
   "cell_type": "code",
   "execution_count": null,
   "id": "e8fa382d",
   "metadata": {},
   "outputs": [],
   "source": []
  }
 ],
 "metadata": {
  "kernelspec": {
   "display_name": ".NET (C#)",
   "language": "C#",
   "name": ".net-csharp"
  },
  "language_info": {
   "file_extension": ".cs",
   "mimetype": "text/x-csharp",
   "name": "C#",
   "pygments_lexer": "csharp",
   "version": "12.0"
  }
 },
 "nbformat": 4,
 "nbformat_minor": 5
}
